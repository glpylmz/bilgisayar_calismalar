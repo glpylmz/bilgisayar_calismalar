{
 "cells": [
  {
   "cell_type": "code",
   "execution_count": 3,
   "metadata": {},
   "outputs": [],
   "source": [
    "class Dusman:\n",
    "    isim=\"dusman\"\n",
    "    kalan_can=1500\n",
    "    saldiri_gucu=30\n",
    "    mermi_sayisi=40\n",
    "    def baslangic(self):\n",
    "        print(\"isim :\",self.isim,\"kalan can :\",self.kalan_can,\"saldiri gucu :\"\\\n",
    "              ,self.saldiri_gucu,\"kalan mermi :\",self.mermi_sayisi)\n",
    "    \n",
    "dusman1=Dusman()\n",
    "dusman2=Dusman()"
   ]
  },
  {
   "cell_type": "code",
   "execution_count": 4,
   "metadata": {},
   "outputs": [
    {
     "name": "stdout",
     "output_type": "stream",
     "text": [
      "isim : dusman kalan can : 1500 saldiri gucu : 30 kalan mermi : 40\n"
     ]
    }
   ],
   "source": [
    "dusman1.baslangic()"
   ]
  },
  {
   "cell_type": "code",
   "execution_count": 5,
   "metadata": {},
   "outputs": [
    {
     "name": "stdout",
     "output_type": "stream",
     "text": [
      "isim : dusman kalan can : 1500 saldiri gucu : 30 kalan mermi : 40\n"
     ]
    }
   ],
   "source": [
    "dusman2.baslangic()"
   ]
  },
  {
   "cell_type": "code",
   "execution_count": 20,
   "metadata": {},
   "outputs": [],
   "source": [
    "class Dusman:\n",
    "    def __init__(self,isim=\"Dusman\",kalan_can=500,saldiri_gucu=10,mermi_sayisi=5):\n",
    "    # __init__ self sayesinde nesnelerin ozelliklerini girebiliyoruz asagida var\n",
    "        self.isim= isim                 #1 buradaki degerleri birazdan tanimlaya\n",
    "        self.kalan_can= kalan_can       #2 cagimiz nesnelerden alsin ve onlari\n",
    "        self.saldiri_gucu= saldiri_gucu #3 atasin \n",
    "        self.mermi_sayisi= mermi_sayisi #4 \n",
    "    \n",
    "    def print(self):\n",
    "        print(\"isim :\",self.isim,\"kalan can :\",self.kalan_can,\"saldiri gucu :\"\\\n",
    "              ,self.saldiri_gucu,\"kalan mermi :\",self.mermi_sayisi)\n",
    "dusman1=Dusman(\"tc\",2000,100,100)\n",
    "dusman2=Dusman(\"turkler\",10,5,1)\n",
    "dusman3=Dusman()"
   ]
  },
  {
   "cell_type": "code",
   "execution_count": 23,
   "metadata": {},
   "outputs": [
    {
     "name": "stdout",
     "output_type": "stream",
     "text": [
      "isim : tc kalan can : 2000 saldiri gucu : 100 kalan mermi : 100\n",
      "isim : turkler kalan can : 10 saldiri gucu : 5 kalan mermi : 1\n",
      "isim : Dusman kalan can : 500 saldiri gucu : 10 kalan mermi : 5\n"
     ]
    }
   ],
   "source": [
    "dusman1.print() #dusman1 veya d2 Dusman class inin icindeki fonk.lari\n",
    "dusman2.print() ##calistirabilir orn burda print fonk cagirildi\n",
    "dusman3.print() #defult girilen degerleri aldi "
   ]
  },
  {
   "cell_type": "code",
   "execution_count": 1,
   "metadata": {},
   "outputs": [
    {
     "name": "stdout",
     "output_type": "stream",
     "text": [
      "isim : Dusman1 kalan can : 171 saldiri gucu : 18 kalan mermi : 26\n",
      "isim : Dusman2 kalan can : 140 saldiri gucu : 10 kalan mermi : 28\n",
      "isim : Dusman3 kalan can : 195 saldiri gucu : 16 kalan mermi : 26\n",
      "isim : Dusman4 kalan can : 135 saldiri gucu : 15 kalan mermi : 25\n",
      "isim : Dusman5 kalan can : 137 saldiri gucu : 16 kalan mermi : 27\n",
      "isim : Dusman6 kalan can : 177 saldiri gucu : 19 kalan mermi : 21\n",
      "isim : Dusman7 kalan can : 197 saldiri gucu : 18 kalan mermi : 22\n",
      "isim : Dusman8 kalan can : 132 saldiri gucu : 10 kalan mermi : 23\n",
      "isim : Dusman9 kalan can : 103 saldiri gucu : 17 kalan mermi : 27\n",
      "isim : Dusman10 kalan can : 131 saldiri gucu : 14 kalan mermi : 22\n"
     ]
    }
   ],
   "source": [
    "import random\n",
    "class Dusman:\n",
    "    def __init__(self,isim=\"Dusman\",kalan_can=500,saldiri_gucu=10,mermi_sayisi=5):\n",
    "    # __init__ self sayesinde nesnelerin ozelliklerini girebiliyoruz asagida var\n",
    "        self.isim= isim                 #1 buradaki degerleri birazdan tanimlaya\n",
    "        self.kalan_can= kalan_can       #2 cagimiz nesnelerden alsin ve onlari\n",
    "        self.saldiri_gucu= saldiri_gucu #3 atasin \n",
    "        self.mermi_sayisi= mermi_sayisi #4 \n",
    "    def saldir(self):\n",
    "        print(self.isim+ \"  saldiriyor....\")\n",
    "        harcanan_mermi=random.randrange(1,10)\n",
    "        print(str(harcanan_mermi)+\" harcandi\")\n",
    "        self.mermi_sayisi-=harcanan_mermi\n",
    "        return (harcanan_mermi,self.saldiri_gucu)\n",
    "    def saldiriya_ugra(self,harcanan_mermi,saldiri_gucu):\n",
    "        print(\"  vuruldum\")\n",
    "        self.kalan_can-=harcanan_mermi*self.saldiri_gucu\n",
    "    def mermi_bittimi(self):\n",
    "        if self.mermi_sayisi<=0:\n",
    "            print(self.isim + \"  mermim bitti\")\n",
    "            return True\n",
    "        return False\n",
    "    def hayatta_mi(self):\n",
    "        if self.kalan_can<=0:\n",
    "            print(self.isim+\" oldu :)\")\n",
    "    \n",
    "    def print(self):\n",
    "        print(\"isim :\",self.isim,\"kalan can :\",self.kalan_can,\"saldiri gucu :\"\\\n",
    "              ,self.saldiri_gucu,\"kalan mermi :\",self.mermi_sayisi)\n",
    "#10 tane dusman olacak ondan liste uardimiyla sonrasinda .append le ekleyecez\n",
    "dusmanlar=[]\n",
    "i=0\n",
    "while (i<10):\n",
    "    rastgelecana=random.randrange(100,200)\n",
    "    rastgelesaldirigucu=random.randrange(10,20)\n",
    "    rastgelemermi=random.randrange(20,30)\n",
    "    yenidusman=Dusman(\"Dusman\"+ str(i+1),rastgelecana,rastgelesaldirigucu,rastgelemermi)\n",
    "    dusmanlar.append(yenidusman)\n",
    "    i=i+1\n",
    "for dusman in dusmanlar:\n",
    "    dusman.print()"
   ]
  },
  {
   "cell_type": "code",
   "execution_count": 104,
   "metadata": {},
   "outputs": [
    {
     "name": "stdout",
     "output_type": "stream",
     "text": [
      "Dusman5  saldiriyor....\n",
      "7 harcandi\n",
      "  vuruldum\n",
      "savas bitti\n",
      "Dusman1  saldiriyor....\n",
      "2 harcandi\n",
      "  vuruldum\n",
      "savas bitti\n",
      "Dusman8  saldiriyor....\n",
      "9 harcandi\n",
      "  vuruldum\n",
      "savas bitti\n",
      "Dusman3  saldiriyor....\n",
      "1 harcandi\n",
      "  vuruldum\n",
      "savas bitti\n",
      "Dusman4  saldiriyor....\n",
      "4 harcandi\n",
      "  vuruldum\n",
      "savas bitti\n"
     ]
    }
   ],
   "source": [
    "i=0\n",
    "while i<5:\n",
    "    randomdusman1=random.randrange(0,10)\n",
    "    randomdusman2=random.randrange(0,10)\n",
    "    \n",
    "    donendeger=dusmanlar[randomdusman1].saldir() \n",
    "    #saldir fonk deger dondugu icin atama yapmamiz gerekiyor\n",
    "    \n",
    "    dusmanlar[randomdusman2].saldiriya_ugra(donendeger[0],donendeger[1])\n",
    "    print(\"savas bitti\")\n",
    "    i=i+1\n"
   ]
  },
  {
   "cell_type": "code",
   "execution_count": 9,
   "metadata": {},
   "outputs": [
    {
     "data": {
      "text/plain": [
       "2.0"
      ]
     },
     "execution_count": 9,
     "metadata": {},
     "output_type": "execute_result"
    }
   ],
   "source": [
    "4**(1/2)"
   ]
  },
  {
   "cell_type": "code",
   "execution_count": 15,
   "metadata": {},
   "outputs": [],
   "source": [
    "a=[\"a\",\"a\"]"
   ]
  },
  {
   "cell_type": "code",
   "execution_count": 16,
   "metadata": {},
   "outputs": [
    {
     "data": {
      "text/plain": [
       "True"
      ]
     },
     "execution_count": 16,
     "metadata": {},
     "output_type": "execute_result"
    }
   ],
   "source": [
    "a==[\"a\",\"a\"]"
   ]
  },
  {
   "cell_type": "code",
   "execution_count": 17,
   "metadata": {},
   "outputs": [
    {
     "name": "stdout",
     "output_type": "stream",
     "text": [
      "hangi dusmana saldirmak istersiniz? \n",
      "Dusman numarasini giriniz: 5\n"
     ]
    }
   ],
   "source": [
    "saldiriyaugrayan=int(input(\"hangi dusmana saldirmak istersiniz? \\nDusman numarasini giriniz: \"))"
   ]
  },
  {
   "cell_type": "code",
   "execution_count": 18,
   "metadata": {},
   "outputs": [
    {
     "data": {
      "text/plain": [
       "5"
      ]
     },
     "execution_count": 18,
     "metadata": {},
     "output_type": "execute_result"
    }
   ],
   "source": [
    "saldiriyaugrayan"
   ]
  },
  {
   "cell_type": "code",
   "execution_count": 21,
   "metadata": {},
   "outputs": [
    {
     "ename": "TypeError",
     "evalue": "can only concatenate str (not \"int\") to str",
     "output_type": "error",
     "traceback": [
      "\u001b[1;31m---------------------------------------------------------------------------\u001b[0m",
      "\u001b[1;31mTypeError\u001b[0m                                 Traceback (most recent call last)",
      "\u001b[1;32m<ipython-input-21-a218d69a7c75>\u001b[0m in \u001b[0;36m<module>\u001b[1;34m\u001b[0m\n\u001b[1;32m----> 1\u001b[1;33m \u001b[1;34m\"g\"\u001b[0m\u001b[1;33m+\u001b[0m\u001b[0msaldiriyaugrayan\u001b[0m\u001b[1;33m\u001b[0m\u001b[1;33m\u001b[0m\u001b[0m\n\u001b[0m",
      "\u001b[1;31mTypeError\u001b[0m: can only concatenate str (not \"int\") to str"
     ]
    }
   ],
   "source": [
    "\"g\"+saldiriyaugrayan"
   ]
  },
  {
   "cell_type": "code",
   "execution_count": 36,
   "metadata": {},
   "outputs": [
    {
     "ename": "SyntaxError",
     "evalue": "'return' outside function (<ipython-input-36-b9c664e18bcc>, line 6)",
     "output_type": "error",
     "traceback": [
      "\u001b[1;36m  File \u001b[1;32m\"<ipython-input-36-b9c664e18bcc>\"\u001b[1;36m, line \u001b[1;32m6\u001b[0m\n\u001b[1;33m    return (g)\u001b[0m\n\u001b[1;37m              ^\u001b[0m\n\u001b[1;31mSyntaxError\u001b[0m\u001b[1;31m:\u001b[0m 'return' outside function\n"
     ]
    }
   ],
   "source": [
    "i=1\n",
    "g=[]\n",
    "for i in range(5):\n",
    "    g+=[i**2]\n",
    "    i+=1\n",
    "return (g)"
   ]
  },
  {
   "cell_type": "code",
   "execution_count": 61,
   "metadata": {},
   "outputs": [],
   "source": [
    "class Ulke():    \n",
    "    def __init__(self,ulkeadi,can=100,ekonomi=100,asker=10):\n",
    "        self.ulkeadi=ulkeadi\n",
    "        self.can=can\n",
    "        self.ekonomi=ekonomi\n",
    "        self.asker=asker\n",
    "    def saldir(self):        \n",
    "        while True:\n",
    "            saldiriyaugrayan=int(input(\"hangi dusmana saldirmak istersiniz? \\nDusman numarasini giriniz: \"))\n",
    "            if saldiriyaugrayan==int(saldiriyaugrayan) and saldiriyaugrayan<=3 and saldiriyaugrayan!=0:\n",
    "                if self.ulkeadi==dusmanlar[saldiriyaugrayan]:\n",
    "                    print(\"kendinize saldiramazsiniz\")\n",
    "                else:\n",
    "                    print(f\"saldiri icin kullanabileceginiz asker sayisi :{self.asker}\")\n",
    "                    askersayisi=int(input(\"kac askerle saldiri yapmak istersiniz :\"))\n",
    "                    \n",
    "                    if askersayisi>self.asker:\n",
    "                        print(f\"mevcut asker sayiniz asamazsiniz. Mevcut asker sayisi {self.asker}\")\n",
    "                    else:\n",
    "                        print(f\"{self.ulkeadi}>>>>>{dusmanlar[saldiriyaugrayan]} saldiriyor\")\n",
    "                        self.asker=self.asker-askersayisi\n",
    "                        print(f\"mevcut durum Mevcut can: {self.can} \\n Asker sayisi: {self.asker}\\n Mevcut ekonomi: {self.ekonomi}\" )\n",
    "                        break\n",
    "                    \n",
    "            else:\n",
    "                print(\"lutfen saldirilacak dusman numarasini duzgun girin\")\n",
    "        return (saldiriyaugrayan,askersayisi)"
   ]
  },
  {
   "cell_type": "code",
   "execution_count": 62,
   "metadata": {},
   "outputs": [],
   "source": [
    "dusman1=Ulke(\"dusman1\",100,500)\n",
    "dusman2=Ulke(\"dusman2\")\n",
    "dusman3=Ulke(\"dusman3\")  \n",
    "     \n",
    "\n",
    "dusmanlar=[\"b\",\"dusman1\",\"dusman2\",\"dusman3\"]"
   ]
  },
  {
   "cell_type": "code",
   "execution_count": 54,
   "metadata": {},
   "outputs": [
    {
     "data": {
      "text/plain": [
       "'dusman1'"
      ]
     },
     "execution_count": 54,
     "metadata": {},
     "output_type": "execute_result"
    }
   ],
   "source": [
    "dusman1.ulkeadi"
   ]
  },
  {
   "cell_type": "code",
   "execution_count": 55,
   "metadata": {},
   "outputs": [
    {
     "data": {
      "text/plain": [
       "500"
      ]
     },
     "execution_count": 55,
     "metadata": {},
     "output_type": "execute_result"
    }
   ],
   "source": [
    "dusman1.ekonomi"
   ]
  },
  {
   "cell_type": "code",
   "execution_count": 66,
   "metadata": {},
   "outputs": [
    {
     "name": "stdout",
     "output_type": "stream",
     "text": [
      "hangi dusmana saldirmak istersiniz? \n",
      "Dusman numarasini giriniz: 2\n",
      "saldiri icin kullanabileceginiz asker sayisi :5\n",
      "kac askerle saldiri yapmak istersiniz :5\n",
      "dusman1>>>>>dusman2 saldiriyor\n",
      "mevcut durum Mevcut can: 100 \n",
      " Asker sayisi: 0\n",
      " Mevcut ekonomi: 500\n"
     ]
    }
   ],
   "source": [
    "x=dusman1.saldir()"
   ]
  },
  {
   "cell_type": "code",
   "execution_count": 67,
   "metadata": {},
   "outputs": [
    {
     "data": {
      "text/plain": [
       "tuple"
      ]
     },
     "execution_count": 67,
     "metadata": {},
     "output_type": "execute_result"
    }
   ],
   "source": [
    "type(x)"
   ]
  },
  {
   "cell_type": "code",
   "execution_count": 68,
   "metadata": {},
   "outputs": [
    {
     "data": {
      "text/plain": [
       "5"
      ]
     },
     "execution_count": 68,
     "metadata": {},
     "output_type": "execute_result"
    }
   ],
   "source": [
    "x[1]"
   ]
  },
  {
   "cell_type": "code",
   "execution_count": 69,
   "metadata": {},
   "outputs": [],
   "source": [
    "a=[\"sdf\",\"asdf\"]"
   ]
  },
  {
   "cell_type": "code",
   "execution_count": 81,
   "metadata": {},
   "outputs": [
    {
     "data": {
      "text/plain": [
       "'sdf'"
      ]
     },
     "execution_count": 81,
     "metadata": {},
     "output_type": "execute_result"
    }
   ],
   "source": [
    "a[0]"
   ]
  },
  {
   "cell_type": "code",
   "execution_count": 88,
   "metadata": {},
   "outputs": [
    {
     "data": {
      "text/plain": [
       "'sdf'"
      ]
     },
     "execution_count": 88,
     "metadata": {},
     "output_type": "execute_result"
    }
   ],
   "source": [
    "\"%s\"%a[0]"
   ]
  },
  {
   "cell_type": "code",
   "execution_count": null,
   "metadata": {},
   "outputs": [],
   "source": [
    "print(\"dfkjjfdsaj \")"
   ]
  },
  {
   "cell_type": "code",
   "execution_count": 92,
   "metadata": {},
   "outputs": [
    {
     "data": {
      "text/plain": [
       "'dusman2'"
      ]
     },
     "execution_count": 92,
     "metadata": {},
     "output_type": "execute_result"
    }
   ],
   "source": [
    "dusmanlar=[\"b\",\"dusman1\",\"dusman2\",\"dusman3\"] \n",
    "str(dusmanlar[2])"
   ]
  },
  {
   "cell_type": "code",
   "execution_count": 94,
   "metadata": {},
   "outputs": [
    {
     "name": "stdout",
     "output_type": "stream",
     "text": [
      "['a', 'd']\n",
      "b\n"
     ]
    }
   ],
   "source": [
    "harfler = ['a', 'b', 'd']\n",
    "silinen = harfler.pop(1)\n",
    "print (harfler)\n",
    "print (silinen)\n",
    "# Sonuc\n",
    "#['a', 'd']\n",
    "#b"
   ]
  },
  {
   "cell_type": "code",
   "execution_count": 99,
   "metadata": {},
   "outputs": [],
   "source": [
    "dusmanlar=[]\n",
    "i=0\n",
    "while (i<10):\n",
    "    rastgelecana=random.randrange(100,200)\n",
    "    rastgelesaldirigucu=random.randrange(10,20)\n",
    "    rastgelemermi=random.randrange(20,30)\n",
    "    yenidusman=Dusman(\"Dusman\"+ str(i+1),rastgelecana,rastgelesaldirigucu,rastgelemermi)\n",
    "    dusmanlar.append(yenidusman)\n",
    "    i=i+1"
   ]
  },
  {
   "cell_type": "code",
   "execution_count": 100,
   "metadata": {},
   "outputs": [
    {
     "name": "stdout",
     "output_type": "stream",
     "text": [
      "Dusman6  saldiriyor....\n",
      "1 harcandi\n",
      "  vuruldum\n"
     ]
    }
   ],
   "source": [
    "randomdusman1=random.randrange(0,10)\n",
    "randomdusman2=random.randrange(0,10)\n",
    "    \n",
    "donendeger=dusmanlar[randomdusman1].saldir() \n",
    "    #saldir fonk deger dondugu icin atama yapmamiz gerekiyor\n",
    "    \n",
    "dusmanlar[randomdusman2].saldiriya_ugra(donendeger[0],donendeger[1])"
   ]
  },
  {
   "cell_type": "code",
   "execution_count": 101,
   "metadata": {},
   "outputs": [
    {
     "data": {
      "text/plain": [
       "7"
      ]
     },
     "execution_count": 101,
     "metadata": {},
     "output_type": "execute_result"
    }
   ],
   "source": [
    "randomdusman2"
   ]
  },
  {
   "cell_type": "code",
   "execution_count": 102,
   "metadata": {},
   "outputs": [
    {
     "data": {
      "text/plain": [
       "<__main__.Dusman at 0x168684409c8>"
      ]
     },
     "execution_count": 102,
     "metadata": {},
     "output_type": "execute_result"
    }
   ],
   "source": [
    "dusmanlar[randomdusman2]"
   ]
  },
  {
   "cell_type": "code",
   "execution_count": 105,
   "metadata": {},
   "outputs": [
    {
     "data": {
      "text/plain": [
       "__main__.Dusman"
      ]
     },
     "execution_count": 105,
     "metadata": {},
     "output_type": "execute_result"
    }
   ],
   "source": [
    "type(dusmanlar[randomdusman2])"
   ]
  },
  {
   "cell_type": "code",
   "execution_count": null,
   "metadata": {},
   "outputs": [],
   "source": []
  }
 ],
 "metadata": {
  "kernelspec": {
   "display_name": "Python 3",
   "language": "python",
   "name": "python3"
  },
  "language_info": {
   "codemirror_mode": {
    "name": "ipython",
    "version": 3
   },
   "file_extension": ".py",
   "mimetype": "text/x-python",
   "name": "python",
   "nbconvert_exporter": "python",
   "pygments_lexer": "ipython3",
   "version": "3.7.6"
  }
 },
 "nbformat": 4,
 "nbformat_minor": 4
}
