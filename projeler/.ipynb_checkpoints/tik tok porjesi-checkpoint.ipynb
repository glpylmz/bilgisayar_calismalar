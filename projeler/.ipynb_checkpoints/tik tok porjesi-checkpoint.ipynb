{
 "cells": [
  {
   "cell_type": "code",
   "execution_count": 6,
   "metadata": {},
   "outputs": [],
   "source": [
    "from IPython.display import clear_output"
   ]
  },
  {
   "cell_type": "code",
   "execution_count": 7,
   "metadata": {},
   "outputs": [],
   "source": [
    "def display_board(board):\n",
    "    clear_output()\n",
    "    print(\" \"+\" | \"+\" \"+\" | \"+\" \")\n",
    "    print(board[7]+\" | \"+board[8]+\" | \"+board[9])\n",
    "    print(\" \"+\" | \"+\" \"+\" | \"+\" \")\n",
    "    print(\"----------\")\n",
    "    print(\" \"+\" | \"+\" \"+\" | \"+\" \")\n",
    "    print(board[4]+\" | \"+board[5]+\" | \"+board[6])\n",
    "    print(\" \"+\" | \"+\" \"+\" | \"+\" \")\n",
    "    print(\"----------\")\n",
    "    print(\" \"+\" | \"+\" \"+\" | \"+\" \")\n",
    "    print(board[1]+\" | \"+board[2]+\" | \"+board[3])\n",
    "    print(\" \"+\" | \"+\" \"+\" | \"+\" \")\n",
    "   "
   ]
  },
  {
   "cell_type": "code",
   "execution_count": 4,
   "metadata": {},
   "outputs": [
    {
     "name": "stdout",
     "output_type": "stream",
     "text": [
      "  |   |  \n",
      "  |   |  \n",
      "  |   |  \n",
      "----------\n",
      "  |   |  \n",
      "  |   |  \n",
      "  |   |  \n",
      "----------\n",
      "  |   |  \n",
      "  |   |  \n",
      "  |   |  \n"
     ]
    }
   ],
   "source": [
    "test_board=[\"G\",\" \",\" \",\" \",\" \",\" \",\" \",\" \",\" \",\" \"]\n",
    "display_board(board)"
   ]
  },
  {
   "cell_type": "code",
   "execution_count": 8,
   "metadata": {},
   "outputs": [
    {
     "name": "stdout",
     "output_type": "stream",
     "text": [
      "  |   |  \n",
      "O | X | X\n",
      "  |   |  \n",
      "----------\n",
      "  |   |  \n",
      "O | X | O\n",
      "  |   |  \n",
      "----------\n",
      "  |   |  \n",
      "X | O | X\n",
      "  |   |  \n"
     ]
    }
   ],
   "source": [
    "board=[\"G\",\" \",\" \",\" \",\" \",\" \",\" \",\" \",\" \",\" \"]\n",
    "xo=0\n",
    "xo=int(input(\"ilk hamle beyazin:\"))\n",
    "board[xo]=\"X\"\n",
    "display_board(board)\n",
    "xo=int(input(\"sira siyahta:\"))\n",
    "#clear_output()\n",
    "board[xo]=\"O\"\n",
    "display_board(board)\n",
    "xo=int(input(\"ilk hamle beyazin:\"))\n",
    "#clear_output()\n",
    "board[xo]=\"X\"\n",
    "display_board(board)\n",
    "xo=int(input(\"sira siyahta:\"))\n",
    "#clear_output()\n",
    "board[xo]=\"O\"\n",
    "display_board(board)\n",
    "xo=int(input(\"ilk hamle beyazin:\"))\n",
    "#clear_output()\n",
    "board[xo]=\"X\"\n",
    "display_board(board)\n",
    "xo=int(input(\"sira siyahta:\"))\n",
    "#clear_output()\n",
    "board[xo]=\"O\"\n",
    "display_board(board)\n",
    "xo=int(input(\"ilk hamle beyazin:\"))\n",
    "#clear_output()\n",
    "board[xo]=\"X\"\n",
    "display_board(board)\n",
    "xo=int(input(\"sira siyahta:\"))\n",
    "#clear_output()\n",
    "board[xo]=\"O\"\n",
    "display_board(board)\n",
    "xo=int(input(\"ilk hamle beyazin:\"))\n",
    "#clear_output()\n",
    "board[xo]=\"X\"\n",
    "display_board(board)\n"
   ]
  },
  {
   "cell_type": "code",
   "execution_count": 19,
   "metadata": {},
   "outputs": [],
   "source": [
    "def galip(a,b):\n",
    "    for i in range(1,b+1):\n",
    "        a=i*a\n",
    "    return a\n",
    "    "
   ]
  },
  {
   "cell_type": "code",
   "execution_count": 20,
   "metadata": {},
   "outputs": [
    {
     "data": {
      "text/plain": [
       "8"
      ]
     },
     "execution_count": 20,
     "metadata": {},
     "output_type": "execute_result"
    }
   ],
   "source": [
    "galip(4,2)"
   ]
  },
  {
   "cell_type": "code",
   "execution_count": 21,
   "metadata": {},
   "outputs": [],
   "source": [
    "x=[4,2,5,3,6,7]"
   ]
  },
  {
   "cell_type": "code",
   "execution_count": 29,
   "metadata": {},
   "outputs": [
    {
     "name": "stdout",
     "output_type": "stream",
     "text": [
      "42\n"
     ]
    }
   ],
   "source": [
    "for i in x:\n",
    "    clear_output()\n",
    "    print(galip(i,3))\n",
    "    "
   ]
  },
  {
   "cell_type": "code",
   "execution_count": 30,
   "metadata": {},
   "outputs": [],
   "source": [
    "from IPython.display import clear_output"
   ]
  },
  {
   "cell_type": "code",
   "execution_count": null,
   "metadata": {},
   "outputs": [],
   "source": []
  }
 ],
 "metadata": {
  "kernelspec": {
   "display_name": "Python 3",
   "language": "python",
   "name": "python3"
  },
  "language_info": {
   "codemirror_mode": {
    "name": "ipython",
    "version": 3
   },
   "file_extension": ".py",
   "mimetype": "text/x-python",
   "name": "python",
   "nbconvert_exporter": "python",
   "pygments_lexer": "ipython3",
   "version": "3.7.6"
  }
 },
 "nbformat": 4,
 "nbformat_minor": 4
}
