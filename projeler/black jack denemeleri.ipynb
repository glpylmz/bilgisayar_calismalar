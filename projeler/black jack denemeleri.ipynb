{
 "cells": [
  {
   "cell_type": "code",
   "execution_count": 23,
   "metadata": {},
   "outputs": [],
   "source": [
    "import random\n",
    "deste=(\"karo\",\"kupa\",\"maca\",\"sinek\")\n",
    "kartlar=(\"iki\",\"uc\",\"dort\",\"bes\",\"alti\",\"yedi\",\"sekiz\",\"dokuz\",\"on\",\"vale\",\"kiz\",\"papaz\",\"as\")\n",
    "degerler={\"iki\":2,\"uc\":3,\"dort\":4,\"bes\":5,\"alti\":6,\"yedi\":7,\"sekiz\":8,\"dokuz\":9,\"on\":10,\"vale\":10,\"kiz\":10,\"papaz\":10,\"as\":11}\n"
   ]
  },
  {
   "cell_type": "code",
   "execution_count": 24,
   "metadata": {},
   "outputs": [],
   "source": [
    "import random\n",
    "class BlackJack():\n",
    "    def __init__(self,oyuncu,bilgisayar,kasa):\n",
    "        self.oyuncu=oyuncu\n",
    "        self.bilgisayar=bilgisayar\n",
    "        self.kasa=kasa\n",
    "        \n",
    "    def __str__(self):\n",
    "        return {f\"{self.oyuncu} Hosgeldiniz, Baslangic Kasaniz : {self.kasa}, Bol sanslar :)\"}\n",
    "    def kart_dagit(self):\n",
    "        oyuncu_kartlari\n",
    "        \n",
    "        \n",
    "        "
   ]
  },
  {
   "cell_type": "code",
   "execution_count": 25,
   "metadata": {},
   "outputs": [
    {
     "ename": "SyntaxError",
     "evalue": "unexpected EOF while parsing (<ipython-input-25-a852b4b59ca5>, line 7)",
     "output_type": "error",
     "traceback": [
      "\u001b[1;36m  File \u001b[1;32m\"<ipython-input-25-a852b4b59ca5>\"\u001b[1;36m, line \u001b[1;32m7\u001b[0m\n\u001b[1;33m    \u001b[0m\n\u001b[1;37m    ^\u001b[0m\n\u001b[1;31mSyntaxError\u001b[0m\u001b[1;31m:\u001b[0m unexpected EOF while parsing\n"
     ]
    }
   ],
   "source": [
    "class Random:\n",
    "    def __init__(self,deste):\n",
    "        self.deste=deste\n",
    "    def kart_sec(self,kart1,kart2):\n",
    "        \n",
    "        \n",
    "        "
   ]
  },
  {
   "cell_type": "code",
   "execution_count": 32,
   "metadata": {},
   "outputs": [],
   "source": [
    "suits=(\"karo\",\"kupa\",\"maca\",\"sinek\")\n",
    "ranks=(\"iki\",\"uc\",\"dort\",\"bes\",\"alti\",\"yedi\",\"sekiz\",\"dokuz\",\"on\",\"vale\",\"kiz\",\"papaz\",\"as\")\n",
    "values={\"iki\":2,\"uc\":3,\"dort\":4,\"bes\":5,\"alti\":6,\"yedi\":7,\"sekiz\":8,\"dokuz\":9,\"on\":10,\"vale\":10,\"kiz\":10,\"papaz\":10,\"as\":11}"
   ]
  },
  {
   "cell_type": "code",
   "execution_count": 27,
   "metadata": {},
   "outputs": [],
   "source": [
    "class Deck:\n",
    "    \n",
    "    def __init__(self):\n",
    "        self.deck = []  # start with an empty list\n",
    "        for i in suits:\n",
    "            for g in ranks:\n",
    "                self.deck=self.deck+[suits[i],ranks[g]]\n",
    "    \n",
    "    def __str__(self):\n",
    "        return f\"Kartlar Karildi\"\n",
    "\n",
    "    def shuffle(self):\n",
    "        random.shuffle(self.deck)\n",
    "        \n",
    "    def deal(self):\n",
    "        print(\"Oynamak istermisiniz :\")"
   ]
  },
  {
   "cell_type": "code",
   "execution_count": 57,
   "metadata": {},
   "outputs": [
    {
     "name": "stdout",
     "output_type": "stream",
     "text": [
      "karo iki\n",
      "karo uc\n",
      "karo dort\n",
      "karo bes\n",
      "karo alti\n",
      "karo yedi\n",
      "karo sekiz\n",
      "karo dokuz\n",
      "karo on\n",
      "karo vale\n",
      "karo kiz\n",
      "karo papaz\n",
      "karo as\n",
      "kupa iki\n",
      "kupa uc\n",
      "kupa dort\n",
      "kupa bes\n",
      "kupa alti\n",
      "kupa yedi\n",
      "kupa sekiz\n",
      "kupa dokuz\n",
      "kupa on\n",
      "kupa vale\n",
      "kupa kiz\n",
      "kupa papaz\n",
      "kupa as\n",
      "maca iki\n",
      "maca uc\n",
      "maca dort\n",
      "maca bes\n",
      "maca alti\n",
      "maca yedi\n",
      "maca sekiz\n",
      "maca dokuz\n",
      "maca on\n",
      "maca vale\n",
      "maca kiz\n",
      "maca papaz\n",
      "maca as\n",
      "sinek iki\n",
      "sinek uc\n",
      "sinek dort\n",
      "sinek bes\n",
      "sinek alti\n",
      "sinek yedi\n",
      "sinek sekiz\n",
      "sinek dokuz\n",
      "sinek on\n",
      "sinek vale\n",
      "sinek kiz\n",
      "sinek papaz\n",
      "sinek as\n"
     ]
    }
   ],
   "source": [
    "for i in range(len(suits)):\n",
    "    for g in range(len(ranks)):\n",
    "        print(suits[i]+\" \"+ranks[g])"
   ]
  },
  {
   "cell_type": "code",
   "execution_count": 54,
   "metadata": {},
   "outputs": [
    {
     "name": "stdout",
     "output_type": "stream",
     "text": [
      "karo\n",
      "kupa\n",
      "maca\n",
      "sinek\n"
     ]
    }
   ],
   "source": [
    "for i in suits:\n",
    "    print(i)"
   ]
  },
  {
   "cell_type": "code",
   "execution_count": null,
   "metadata": {},
   "outputs": [],
   "source": []
  }
 ],
 "metadata": {
  "kernelspec": {
   "display_name": "Python 3",
   "language": "python",
   "name": "python3"
  },
  "language_info": {
   "codemirror_mode": {
    "name": "ipython",
    "version": 3
   },
   "file_extension": ".py",
   "mimetype": "text/x-python",
   "name": "python",
   "nbconvert_exporter": "python",
   "pygments_lexer": "ipython3",
   "version": "3.7.6"
  }
 },
 "nbformat": 4,
 "nbformat_minor": 4
}
