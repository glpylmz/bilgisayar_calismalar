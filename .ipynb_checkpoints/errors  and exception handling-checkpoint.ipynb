{
 "cells": [
  {
   "cell_type": "code",
   "execution_count": 1,
   "metadata": {},
   "outputs": [],
   "source": [
    "#try ecxept finaly"
   ]
  },
  {
   "cell_type": "code",
   "execution_count": 2,
   "metadata": {},
   "outputs": [],
   "source": [
    "def add(a,b):\n",
    "    print(a+b)"
   ]
  },
  {
   "cell_type": "code",
   "execution_count": 3,
   "metadata": {},
   "outputs": [
    {
     "name": "stdout",
     "output_type": "stream",
     "text": [
      "30\n"
     ]
    }
   ],
   "source": [
    "add(10,20)"
   ]
  },
  {
   "cell_type": "code",
   "execution_count": 4,
   "metadata": {},
   "outputs": [],
   "source": [
    "number1= 10"
   ]
  },
  {
   "cell_type": "code",
   "execution_count": 6,
   "metadata": {},
   "outputs": [
    {
     "name": "stdout",
     "output_type": "stream",
     "text": [
      "lutfen bi sayi girin  :20\n"
     ]
    }
   ],
   "source": [
    "number2=input(\"lutfen bi sayi girin  :\")\n",
    "#input sonucu str olacagi icin add hata verecektir"
   ]
  },
  {
   "cell_type": "code",
   "execution_count": 8,
   "metadata": {},
   "outputs": [
    {
     "ename": "TypeError",
     "evalue": "unsupported operand type(s) for +: 'int' and 'str'",
     "output_type": "error",
     "traceback": [
      "\u001b[1;31m---------------------------------------------------------------------------\u001b[0m",
      "\u001b[1;31mTypeError\u001b[0m                                 Traceback (most recent call last)",
      "\u001b[1;32m<ipython-input-8-5a8aa0fbf0c4>\u001b[0m in \u001b[0;36m<module>\u001b[1;34m\u001b[0m\n\u001b[1;32m----> 1\u001b[1;33m \u001b[0madd\u001b[0m\u001b[1;33m(\u001b[0m\u001b[0mnumber1\u001b[0m\u001b[1;33m+\u001b[0m\u001b[0mnumber2\u001b[0m\u001b[1;33m)\u001b[0m\u001b[1;33m\u001b[0m\u001b[1;33m\u001b[0m\u001b[0m\n\u001b[0m\u001b[0;32m      2\u001b[0m \u001b[0mprint\u001b[0m\u001b[1;33m(\u001b[0m\u001b[1;34m\"bilseyler oldu\"\u001b[0m\u001b[1;33m)\u001b[0m\u001b[1;33m\u001b[0m\u001b[1;33m\u001b[0m\u001b[0m\n",
      "\u001b[1;31mTypeError\u001b[0m: unsupported operand type(s) for +: 'int' and 'str'"
     ]
    }
   ],
   "source": [
    "add(number1+number2)\n",
    "print(\"bilseyler oldu\") #bunu da cikti vermedi yukardaki hatadan dolayi"
   ]
  },
  {
   "cell_type": "code",
   "execution_count": 9,
   "metadata": {},
   "outputs": [],
   "source": [
    "try:\n",
    "    result=10+10\n",
    "except:\n",
    "    print(\"girdigi dogru yapmamis olabilirsiniz\")"
   ]
  },
  {
   "cell_type": "code",
   "execution_count": 10,
   "metadata": {},
   "outputs": [
    {
     "data": {
      "text/plain": [
       "20"
      ]
     },
     "execution_count": 10,
     "metadata": {},
     "output_type": "execute_result"
    }
   ],
   "source": [
    "result\n",
    "#bunda sorun beklenmiyordu zaten peki sonraki islemde"
   ]
  },
  {
   "cell_type": "code",
   "execution_count": 11,
   "metadata": {},
   "outputs": [
    {
     "name": "stdout",
     "output_type": "stream",
     "text": [
      "girdigi dogru yapmamis olabilirsiniz\n"
     ]
    }
   ],
   "source": [
    "try:\n",
    "    result=10+\"10\"\n",
    "except:\n",
    "    print(\"girdigi dogru yapmamis olabilirsiniz\")\n",
    "\n",
    "#  try dedigi yerde hata olunca except i kabul ediyor"
   ]
  },
  {
   "cell_type": "code",
   "execution_count": 14,
   "metadata": {},
   "outputs": [
    {
     "name": "stdout",
     "output_type": "stream",
     "text": [
      "ekleme oldu\n",
      "20\n"
     ]
    }
   ],
   "source": [
    "try:\n",
    "    result=10+10\n",
    "except:\n",
    "    print(\"girdigi dogru yapmamis olabilirsiniz\")\n",
    "else: #yukaridaki ecxept calismazsa calisir yoksa calismaz\n",
    "    print(\"ekleme oldu\")\n",
    "    print(result)\n",
    "# burada except in else i yani try calisirsa bu da calisacak\n",
    "#else i basa yazdi "
   ]
  },
  {
   "cell_type": "code",
   "execution_count": null,
   "metadata": {},
   "outputs": [],
   "source": []
  },
  {
   "cell_type": "code",
   "execution_count": null,
   "metadata": {},
   "outputs": [],
   "source": []
  },
  {
   "cell_type": "code",
   "execution_count": 16,
   "metadata": {},
   "outputs": [
    {
     "name": "stdout",
     "output_type": "stream",
     "text": [
      "her zaman calisir\n"
     ]
    }
   ],
   "source": [
    "try:\n",
    "    f=open(\"testfile\",\"w\") #dosyayi yazilabilir formatta acmak\n",
    "    f.write(\"test yazisi\")\n",
    "except TypeError: #bisuru error var pyhton listesi mevcut\n",
    "    print(\"TypeError verdi reis\")\n",
    "except OSError:\n",
    "    print(\"OSError oldu reis\")\n",
    "finally:\n",
    "    print(\"her zaman calisir\")\n",
    "#burada ecxept lerden hicbiri calismadi hatalar bunlarin disinda geldi\n",
    "# asagida deneyelim hata kodunu"
   ]
  },
  {
   "cell_type": "code",
   "execution_count": 17,
   "metadata": {},
   "outputs": [
    {
     "name": "stdout",
     "output_type": "stream",
     "text": [
      "OSError oldu reis\n",
      "her zaman calisir\n"
     ]
    }
   ],
   "source": [
    "try:\n",
    "    f=open(\"testfile\",\"r\") #dosyayi yazilabilir formatta acmak\n",
    "    f.write(\"test yazisi\")\n",
    "except TypeError: #bisuru error var pyhton listesi mevcut\n",
    "    print(\"TypeError verdi reis\")\n",
    "except OSError:\n",
    "    print(\"OSError oldu reis\")\n",
    "finally:\n",
    "    print(\"her zaman calisir\")\n",
    "#finally blogu exceptlerden biri calisirsa da her zaman calisir    "
   ]
  },
  {
   "cell_type": "code",
   "execution_count": 20,
   "metadata": {},
   "outputs": [
    {
     "ename": "IndentationError",
     "evalue": "unexpected indent (<ipython-input-20-f612c11f6c82>, line 2)",
     "output_type": "error",
     "traceback": [
      "\u001b[1;36m  File \u001b[1;32m\"<ipython-input-20-f612c11f6c82>\"\u001b[1;36m, line \u001b[1;32m2\u001b[0m\n\u001b[1;33m    f.write(\"test yazisi\")\u001b[0m\n\u001b[1;37m    ^\u001b[0m\n\u001b[1;31mIndentationError\u001b[0m\u001b[1;31m:\u001b[0m unexpected indent\n"
     ]
    }
   ],
   "source": [
    "f=open(\"testfile\",\"w\") #dosyayi yazilabilir formatta acmak\n",
    "    f.write(\"test yazisi\")\n",
    "## IndentationError verdi\n",
    "#asagida bunu ecxept yapalim"
   ]
  },
  {
   "cell_type": "code",
   "execution_count": 24,
   "metadata": {},
   "outputs": [
    {
     "name": "stdout",
     "output_type": "stream",
     "text": [
      "try calistigi icin else de calisacak     cunku bu ecxept in else i :)\n",
      "bu finaly hep calisiyor yine\n"
     ]
    }
   ],
   "source": [
    "try:\n",
    "    f=open(\"testfile\",\"w\") #dosyayi yazilabilir formatta acmak\n",
    "    f.write(\"test yazisi\")\n",
    "except IndentationError:\n",
    "    print(\"hata verdi reis hemide Inden bilmem ne\")\n",
    "else:\n",
    "    print(\"try calistigi icin else de calisacak \\\n",
    "    cunku bu ecxept in else i :)\")\n",
    "finally:\n",
    "    print(\"bu finaly hep calisiyor yine\")\n",
    "### except ...Error pek kullanilmiyor direk except candir"
   ]
  },
  {
   "cell_type": "code",
   "execution_count": 28,
   "metadata": {},
   "outputs": [],
   "source": [
    "def ask_for_int():\n",
    "    try:\n",
    "        result=int(input(\"numara girin : \"))\n",
    "    except:\n",
    "        print(\"owwww sayi girmedin ki\")\n",
    "    else:\n",
    "        print(result)\n",
    "    finally:\n",
    "        print(\"bu bi sayi mi?\")"
   ]
  },
  {
   "cell_type": "code",
   "execution_count": 30,
   "metadata": {},
   "outputs": [
    {
     "name": "stdout",
     "output_type": "stream",
     "text": [
      "numara girin : 3\n",
      "3\n",
      "bu bi sayi mi?\n"
     ]
    }
   ],
   "source": [
    "ask_for_int()"
   ]
  },
  {
   "cell_type": "code",
   "execution_count": 31,
   "metadata": {},
   "outputs": [],
   "source": [
    "# simdi bunu while ile sayi girene kadar calistiralim"
   ]
  },
  {
   "cell_type": "code",
   "execution_count": 39,
   "metadata": {},
   "outputs": [],
   "source": [
    "def ask_for_int():\n",
    "    while True:\n",
    "        try:\n",
    "            result=int(input(\"numara girin : \"))\n",
    "        except:\n",
    "            print(\"owwww sayi girmedin ki\")\n",
    "            continue\n",
    "        else:\n",
    "            print(result,\"thank you\")\n",
    "            break #icinde oldugu loop u bitirmek icin\n",
    "                   # yani while loop bitecek\n",
    "        finally: #bu kod loop bitse de ilk loop tan dolayi calisacak\n",
    "            print(\"ben her zaman calisirim\")\n",
    "            #finlaly cok manitkli olmadi burda :)"
   ]
  },
  {
   "cell_type": "code",
   "execution_count": 40,
   "metadata": {},
   "outputs": [
    {
     "name": "stdout",
     "output_type": "stream",
     "text": [
      "numara girin : s\n",
      "owwww sayi girmedin ki\n",
      "ben her zaman calisirim\n",
      "numara girin : 1\n",
      "1 thank you\n",
      "ben her zaman calisirim\n"
     ]
    }
   ],
   "source": [
    "ask_for_int()"
   ]
  },
  {
   "cell_type": "code",
   "execution_count": null,
   "metadata": {},
   "outputs": [],
   "source": []
  }
 ],
 "metadata": {
  "kernelspec": {
   "display_name": "Python 3",
   "language": "python",
   "name": "python3"
  },
  "language_info": {
   "codemirror_mode": {
    "name": "ipython",
    "version": 3
   },
   "file_extension": ".py",
   "mimetype": "text/x-python",
   "name": "python",
   "nbconvert_exporter": "python",
   "pygments_lexer": "ipython3",
   "version": "3.7.6"
  }
 },
 "nbformat": 4,
 "nbformat_minor": 4
}
