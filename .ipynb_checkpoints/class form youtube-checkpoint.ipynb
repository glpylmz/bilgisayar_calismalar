{
 "cells": [
  {
   "cell_type": "code",
   "execution_count": 3,
   "metadata": {},
   "outputs": [],
   "source": [
    "class Dusman:\n",
    "    isim=\"dusman\"\n",
    "    kalan_can=1500\n",
    "    saldiri_gucu=30\n",
    "    mermi_sayisi=40\n",
    "    def baslangic(self):\n",
    "        print(\"isim :\",self.isim,\"kalan can :\",self.kalan_can,\"saldiri gucu :\"\\\n",
    "              ,self.saldiri_gucu,\"kalan mermi :\",self.mermi_sayisi)\n",
    "    \n",
    "dusman1=Dusman()\n",
    "dusman2=Dusman()"
   ]
  },
  {
   "cell_type": "code",
   "execution_count": 4,
   "metadata": {},
   "outputs": [
    {
     "name": "stdout",
     "output_type": "stream",
     "text": [
      "isim : dusman kalan can : 1500 saldiri gucu : 30 kalan mermi : 40\n"
     ]
    }
   ],
   "source": [
    "dusman1.baslangic()"
   ]
  },
  {
   "cell_type": "code",
   "execution_count": 5,
   "metadata": {},
   "outputs": [
    {
     "name": "stdout",
     "output_type": "stream",
     "text": [
      "isim : dusman kalan can : 1500 saldiri gucu : 30 kalan mermi : 40\n"
     ]
    }
   ],
   "source": [
    "dusman2.baslangic()"
   ]
  },
  {
   "cell_type": "code",
   "execution_count": 20,
   "metadata": {},
   "outputs": [],
   "source": [
    "class Dusman:\n",
    "    def __init__(self,isim=\"Dusman\",kalan_can=500,saldiri_gucu=10,mermi_sayisi=5):\n",
    "    # __init__ self sayesinde nesnelerin ozelliklerini girebiliyoruz asagida var\n",
    "        self.isim= isim                 #1 buradaki degerleri birazdan tanimlaya\n",
    "        self.kalan_can= kalan_can       #2 cagimiz nesnelerden alsin ve onlari\n",
    "        self.saldiri_gucu= saldiri_gucu #3 atasin \n",
    "        self.mermi_sayisi= mermi_sayisi #4 \n",
    "    \n",
    "    def print(self):\n",
    "        print(\"isim :\",self.isim,\"kalan can :\",self.kalan_can,\"saldiri gucu :\"\\\n",
    "              ,self.saldiri_gucu,\"kalan mermi :\",self.mermi_sayisi)\n",
    "dusman1=Dusman(\"tc\",2000,100,100)\n",
    "dusman2=Dusman(\"turkler\",10,5,1)\n",
    "dusman3=Dusman()"
   ]
  },
  {
   "cell_type": "code",
   "execution_count": 23,
   "metadata": {},
   "outputs": [
    {
     "name": "stdout",
     "output_type": "stream",
     "text": [
      "isim : tc kalan can : 2000 saldiri gucu : 100 kalan mermi : 100\n",
      "isim : turkler kalan can : 10 saldiri gucu : 5 kalan mermi : 1\n",
      "isim : Dusman kalan can : 500 saldiri gucu : 10 kalan mermi : 5\n"
     ]
    }
   ],
   "source": [
    "dusman1.print() #dusman1 veya d2 Dusman class inin icindeki fonk.lari\n",
    "dusman2.print() ##calistirabilir orn burda print fonk cagirildi\n",
    "dusman3.print() #defult girilen degerleri aldi "
   ]
  },
  {
   "cell_type": "code",
   "execution_count": 5,
   "metadata": {},
   "outputs": [
    {
     "name": "stdout",
     "output_type": "stream",
     "text": [
      "isim : Dusman1 kalan can : 179 saldiri gucu : 10 kalan mermi : 27\n",
      "isim : Dusman2 kalan can : 100 saldiri gucu : 11 kalan mermi : 24\n",
      "isim : Dusman3 kalan can : 129 saldiri gucu : 17 kalan mermi : 28\n",
      "isim : Dusman4 kalan can : 139 saldiri gucu : 17 kalan mermi : 21\n",
      "isim : Dusman5 kalan can : 102 saldiri gucu : 18 kalan mermi : 24\n",
      "isim : Dusman6 kalan can : 137 saldiri gucu : 13 kalan mermi : 25\n",
      "isim : Dusman7 kalan can : 184 saldiri gucu : 15 kalan mermi : 23\n",
      "isim : Dusman8 kalan can : 187 saldiri gucu : 10 kalan mermi : 22\n",
      "isim : Dusman9 kalan can : 109 saldiri gucu : 19 kalan mermi : 29\n",
      "isim : Dusman10 kalan can : 127 saldiri gucu : 14 kalan mermi : 26\n"
     ]
    }
   ],
   "source": [
    "import random\n",
    "class Dusman:\n",
    "    def __init__(self,isim=\"Dusman\",kalan_can=500,saldiri_gucu=10,mermi_sayisi=5):\n",
    "    # __init__ self sayesinde nesnelerin ozelliklerini girebiliyoruz asagida var\n",
    "        self.isim= isim                 #1 buradaki degerleri birazdan tanimlaya\n",
    "        self.kalan_can= kalan_can       #2 cagimiz nesnelerden alsin ve onlari\n",
    "        self.saldiri_gucu= saldiri_gucu #3 atasin \n",
    "        self.mermi_sayisi= mermi_sayisi #4 \n",
    "    def saldir(self):\n",
    "        print(self.isim+ \"  saldiriyor....\")\n",
    "        harcanan_mermi=random.randrange(1,10)\n",
    "        print(str(harcanan_mermi)+\" harcandi\")\n",
    "        self.mermi_sayisi-=harcanan_mermi\n",
    "        return (harcanan_mermi,self.saldiri_gucu)\n",
    "    def saldiriya_ugra(self,harcanan_mermi,saldiri_gucu):\n",
    "        print(\"  vuruldum\")\n",
    "        self.kalan_can-=harcanan_mermi*self.saldiri_gucu\n",
    "    def mermi_bittimi(self):\n",
    "        if self.mermi_sayisi<=0:\n",
    "            print(self.isim + \"  mermim bitti\")\n",
    "            return True\n",
    "        return False\n",
    "    def hayatta_mi(self):\n",
    "        if self.kalan_can<=0:\n",
    "            print(self.isim+\" oldu :)\")\n",
    "    \n",
    "    def print(self):\n",
    "        print(\"isim :\",self.isim,\"kalan can :\",self.kalan_can,\"saldiri gucu :\"\\\n",
    "              ,self.saldiri_gucu,\"kalan mermi :\",self.mermi_sayisi)\n",
    "#10 tane dusman olacak ondan liste uardimiyla sonrasinda .append le ekleyecez\n",
    "dusmanlar=[]\n",
    "i=0\n",
    "while (i<10):\n",
    "    rastgelecana=random.randrange(100,200)\n",
    "    rastgelesaldirigucu=random.randrange(10,20)\n",
    "    rastgelemermi=random.randrange(20,30)\n",
    "    yenidusman=Dusman(\"Dusman\"+ str(i+1),rastgelecana,rastgelesaldirigucu,rastgelemermi)\n",
    "    dusmanlar.append(yenidusman)\n",
    "    i=i+1\n",
    "for dusman in dusmanlar:\n",
    "    dusman.print()"
   ]
  },
  {
   "cell_type": "code",
   "execution_count": 6,
   "metadata": {},
   "outputs": [
    {
     "name": "stdout",
     "output_type": "stream",
     "text": [
      "Dusman7  saldiriyor....\n",
      "7 harcandi\n",
      "  vuruldum\n",
      "savas bitti\n",
      "Dusman9  saldiriyor....\n",
      "8 harcandi\n",
      "  vuruldum\n",
      "savas bitti\n",
      "Dusman1  saldiriyor....\n",
      "3 harcandi\n",
      "  vuruldum\n",
      "savas bitti\n"
     ]
    }
   ],
   "source": [
    "i=0\n",
    "while i<3:\n",
    "    randomdusman1=random.randrange(0,10)\n",
    "    randomdusman2=random.randrange(0,10)\n",
    "    \n",
    "    donendeger=dusmanlar[randomdusman1].saldir() \n",
    "    #saldir fonk deger dondugu icin atama yapmamiz gerekiyor\n",
    "    \n",
    "    dusmanlar[randomdusman2].saldiriya_ugra(donendeger[0],donendeger[1])\n",
    "    print(\"savas bitti\")\n",
    "    i=i+1\n"
   ]
  },
  {
   "cell_type": "code",
   "execution_count": null,
   "metadata": {},
   "outputs": [],
   "source": []
  }
 ],
 "metadata": {
  "kernelspec": {
   "display_name": "Python 3",
   "language": "python",
   "name": "python3"
  },
  "language_info": {
   "codemirror_mode": {
    "name": "ipython",
    "version": 3
   },
   "file_extension": ".py",
   "mimetype": "text/x-python",
   "name": "python",
   "nbconvert_exporter": "python",
   "pygments_lexer": "ipython3",
   "version": "3.7.6"
  }
 },
 "nbformat": 4,
 "nbformat_minor": 4
}
